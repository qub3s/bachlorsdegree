{
 "cells": [
  {
   "cell_type": "code",
   "execution_count": 2,
   "metadata": {},
   "outputs": [
    {
     "name": "stderr",
     "output_type": "stream",
     "text": [
      "/user/georg.eckardt/.local/lib/python3.11/site-packages/tqdm/auto.py:21: TqdmWarning: IProgress not found. Please update jupyter and ipywidgets. See https://ipywidgets.readthedocs.io/en/stable/user_install.html\n",
      "  from .autonotebook import tqdm as notebook_tqdm\n"
     ]
    }
   ],
   "source": [
    "from transformers import pipeline\n",
    "from PIL import Image\n",
    "import requests\n",
    "import numpy as np\n",
    "import cv2\n",
    "\n",
    "# load pipe\n",
    "pipe = pipeline(task=\"depth-estimation\", model=\"LiheYoung/depth-anything-small-hf\")"
   ]
  },
  {
   "cell_type": "code",
   "execution_count": 4,
   "metadata": {},
   "outputs": [],
   "source": [
    "# load image\n",
    "\n",
    "for i in range(1):\n",
    "    data = np.load('data/MOVIE/videos/'+str(i)+'.npy')\n",
    "\n",
    "    frameSize = (128,128)\n",
    "    name = 'depth/image_'+str(i)+'_depth.mp4'\n",
    "    vid = cv2.VideoWriter(name,cv2.VideoWriter_fourcc(*'mp4v'), 12, frameSize)\n",
    "    \n",
    "    for frame in data:\n",
    "        image = Image.fromarray(frame)\n",
    "\n",
    "        # inference\n",
    "        depth = np.array(pipe(image)[\"depth\"])\n",
    "\n",
    "        depth = depth/depth.max()\n",
    "\n",
    "        save = np.stack( ( depth.copy()*255, depth.copy()*255, depth.copy()*255 ), 2).astype(np.uint8)    \n",
    "        vid.write(save)\n",
    "    vid.release()"
   ]
  },
  {
   "cell_type": "markdown",
   "metadata": {},
   "source": [
    "# Sobel Filter"
   ]
  },
  {
   "cell_type": "code",
   "execution_count": 56,
   "metadata": {},
   "outputs": [
    {
     "name": "stdout",
     "output_type": "stream",
     "text": [
      "[[[2 2 2]\n",
      "  [2 2 2]\n",
      "  [2 2 2]\n",
      "  ...\n",
      "  [2 2 2]\n",
      "  [2 2 2]\n",
      "  [2 2 2]]\n",
      "\n",
      " [[2 2 2]\n",
      "  [2 2 2]\n",
      "  [2 2 2]\n",
      "  ...\n",
      "  [2 2 2]\n",
      "  [2 2 2]\n",
      "  [2 2 2]]\n",
      "\n",
      " [[2 2 2]\n",
      "  [2 2 2]\n",
      "  [2 2 2]\n",
      "  ...\n",
      "  [2 2 2]\n",
      "  [2 2 2]\n",
      "  [2 2 2]]\n",
      "\n",
      " ...\n",
      "\n",
      " [[2 2 2]\n",
      "  [2 2 2]\n",
      "  [2 2 2]\n",
      "  ...\n",
      "  [2 2 2]\n",
      "  [2 2 2]\n",
      "  [2 2 2]]\n",
      "\n",
      " [[2 2 2]\n",
      "  [2 2 2]\n",
      "  [2 2 2]\n",
      "  ...\n",
      "  [2 2 2]\n",
      "  [2 2 2]\n",
      "  [2 2 2]]\n",
      "\n",
      " [[2 2 2]\n",
      "  [2 2 2]\n",
      "  [2 2 2]\n",
      "  ...\n",
      "  [2 2 2]\n",
      "  [2 2 2]\n",
      "  [2 2 2]]]\n",
      "end\n"
     ]
    }
   ],
   "source": [
    "from skimage import filters, color, morphology\n",
    "import skimage\n",
    "import os\n",
    "import cv2\n",
    "import matplotlib.pyplot as plt\n",
    "from skimage.filters import threshold_multiotsu\n",
    "\n",
    "try:\n",
    "    os.mkdir(\"depth/images/\"+str(i)+\"/\")\n",
    "except:\n",
    "    pass\n",
    "\n",
    "for i in range(1):\n",
    "    data = np.load('data/MOVIE/videos/'+str(i)+'.npy')\n",
    "    try:\n",
    "        os.mkdir(\"depth/images/\"+str(i)+\"/\")\n",
    "    except:\n",
    "        pass\n",
    "\n",
    "    for j,frame in enumerate(data):\n",
    "        image = Image.fromarray(frame)\n",
    "\n",
    "        # inference\n",
    "        depth = np.array(pipe(image)[\"depth\"])\n",
    "        depth = depth/depth.max()\n",
    "\n",
    "        # SOBEL\n",
    "        gX = cv2.Sobel(src=depth, ddepth=cv2.CV_64F, dx=1, dy=0, ksize=3)\n",
    "        gY = cv2.Sobel(src=depth, ddepth=cv2.CV_64F, dx=0, dy=1, ksize=3)\n",
    "        sobel = np.absolute(cv2.addWeighted(gX, 0.5, gY, 0.5, 0))\n",
    "        sobel /= sobel.max()\n",
    "        sobel_raw = sobel.copy()\n",
    "        threshhold = (sobel.mean() + np.median(sobel))/2\n",
    "        sobel = np.digitize(sobel, bins=[np.median(threshhold)]).astype(np.uint8)\n",
    "        regions = skimage.morphology.label(sobel,1)+1\n",
    "\n",
    "        \n",
    "        save = np.stack( ( sobel_raw.copy()*234, sobel_raw.copy()*345, sobel_raw.copy()*567 ), 2).astype(np.uint8)  \n",
    "        cv2.imwrite(\"depth/images/\"+str(i)+\"/\"+str(j)+\"_sobel_raw.jpg\", save)\n",
    "        save = np.stack( ( regions.copy()*234, regions.copy()*345, regions.copy()*567 ), 2).astype(np.uint8)  \n",
    "        cv2.imwrite(\"depth/images/\"+str(i)+\"/\"+str(j)+\"_sobel_segmentation.jpg\", save)\n",
    "        save = np.stack( ( depth.copy()*255, depth.copy()*255, depth.copy()*255 ), 2).astype(np.uint8)  \n",
    "        cv2.imwrite(\"depth/images/\"+str(i)+\"/\"+str(j)+\"_depth.jpg\", save)\n",
    "\n",
    "        # multiotsu\n",
    "        thresholds = threshold_multiotsu(depth)\n",
    "        regions = np.digitize(image, bins=thresholds)\n",
    "        save = np.stack( ( regions.copy()*234, regions.copy()*345, regions.copy()*567 ), 2).astype(np.uint8)  \n",
    "        cv2.imwrite(\"depth/images/\"+str(i)+\"/\"+str(j)+\"_multi_otsu.jpg\", save)\n",
    "        print(\"end\")\n",
    "        break\n"
   ]
  },
  {
   "cell_type": "code",
   "execution_count": 53,
   "metadata": {},
   "outputs": [
    {
     "name": "stderr",
     "output_type": "stream",
     "text": [
      "Using cache found in /user/georg.eckardt/.cache/torch/hub/intel-isl_MiDaS_master\n",
      "Using cache found in /user/georg.eckardt/.cache/torch/hub/intel-isl_MiDaS_master\n"
     ]
    }
   ],
   "source": [
    "import cv2\n",
    "import torch\n",
    "import urllib.request\n",
    "import matplotlib.pyplot as plt\n",
    "\n",
    "model_type = \"DPT_Large\"     # MiDaS v3 - Large     (highest accuracy, slowest inference speed)\n",
    "\n",
    "midas = torch.hub.load(\"intel-isl/MiDaS\", model_type)\n",
    "\n",
    "device = torch.device(\"cuda\") if torch.cuda.is_available() else torch.device(\"cpu\")\n",
    "midas.to(device)\n",
    "midas.eval()\n",
    "\n",
    "midas_transforms = torch.hub.load(\"intel-isl/MiDaS\", \"transforms\")"
   ]
  },
  {
   "cell_type": "code",
   "execution_count": 54,
   "metadata": {},
   "outputs": [],
   "source": [
    "for i in range(10):\n",
    "    data = np.load('data/MOVIE/videos/'+str(i)+'.npy')\n",
    "\n",
    "    frameSize = (128,128)\n",
    "    name = 'depth/image_'+str(i)+'_depth_2.mp4'\n",
    "    vid = cv2.VideoWriter(name,cv2.VideoWriter_fourcc(*'mp4v'), 12, frameSize)\n",
    "    \n",
    "    for frame in data:\n",
    "        img = np.array(Image.fromarray(frame))\n",
    "\n",
    "        if model_type == \"DPT_Large\" or model_type == \"DPT_Hybrid\":\n",
    "            transform = midas_transforms.dpt_transform\n",
    "        else:\n",
    "            transform = midas_transforms.small_transform\n",
    "\n",
    "        input_batch = transform(img).to(device)\n",
    "        \n",
    "        with torch.no_grad():\n",
    "            prediction = midas(input_batch)\n",
    "\n",
    "            prediction = torch.nn.functional.interpolate(\n",
    "                prediction.unsqueeze(1),\n",
    "                size=img.shape[:2],\n",
    "                mode=\"bicubic\",\n",
    "                align_corners=False,\n",
    "            ).squeeze()\n",
    "\n",
    "        depth = prediction.cpu().numpy()\n",
    "        depth = depth/depth.max()\n",
    "\n",
    "        save = np.stack( ( depth.copy()*255, depth.copy()*255, depth.copy()*255 ), 2).astype(np.uint8)\n",
    "\n",
    "        vid.write(save)\n",
    "    vid.release()"
   ]
  },
  {
   "cell_type": "code",
   "execution_count": null,
   "metadata": {},
   "outputs": [],
   "source": []
  }
 ],
 "metadata": {
  "kernelspec": {
   "display_name": "Python 3",
   "language": "python",
   "name": "python3"
  },
  "language_info": {
   "codemirror_mode": {
    "name": "ipython",
    "version": 3
   },
   "file_extension": ".py",
   "mimetype": "text/x-python",
   "name": "python",
   "nbconvert_exporter": "python",
   "pygments_lexer": "ipython3",
   "version": "3.11.2"
  }
 },
 "nbformat": 4,
 "nbformat_minor": 2
}
